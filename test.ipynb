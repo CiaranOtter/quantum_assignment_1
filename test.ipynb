{
 "cells": [
  {
   "cell_type": "code",
   "execution_count": 255,
   "metadata": {},
   "outputs": [],
   "source": [
    "# Install the requrements for the project\n",
    "!pip install numpy matplotlib pennylane --quiet"
   ]
  },
  {
   "cell_type": "code",
   "execution_count": 237,
   "metadata": {},
   "outputs": [],
   "source": [
    "# Import the dependencies\n",
    "import pennylane as qml\n",
    "from pennylane import numpy as np\n",
    "import networkx as nx\n",
    "from matplotlib import pyplot as plt"
   ]
  },
  {
   "cell_type": "code",
   "execution_count": 238,
   "metadata": {},
   "outputs": [
    {
     "data": {
      "image/png": "[encoded data removed]",
      "text/plain": [
       "<Figure size 640x480 with 1 Axes>"
      ]
     },
     "metadata": {},
     "output_type": "display_data"
    }
   ],
   "source": [
    "# define the edges for the graph\n",
    "edges = [(0,1)]\n",
    "\n",
    "# create a graph based on the defined edges\n",
    "graph = nx.Graph(edges)\n",
    "\n",
    "# plot the graph\n",
    "nx.draw(graph, with_labels=True)"
   ]
  },
  {
   "cell_type": "markdown",
   "metadata": {},
   "source": [
    "## The problem hamiltonian\n",
    "\n",
    "The problem hamiltonian for a two node graph can be defined as:\n",
    "\n",
    "$H_c = \\frac 1 2 ( 1 - Z_0 \\otimes Z_1)$\n",
    "\n",
    "where $Z_0$ and $Z_1$ are the PauliZ gates applied to the qubits 0 and 1 respectively."
   ]
  },
  {
   "cell_type": "code",
   "execution_count": 258,
   "metadata": {},
   "outputs": [
    {
     "name": "stdout",
     "output_type": "stream",
     "text": [
      "Problem hamiltonian: Hc = -0.5 * (-1 * (Z(0) @ Z(1)) + 1 * I(0))\n"
     ]
    }
   ],
   "source": [
    "# define the problem hamiltonian\n",
    "problem_hamiltonian = -0.5 * (1 - qml.PauliZ(0) @ qml.PauliZ(1))\n",
    "print(\"Problem hamiltonian: Hc =\",problem_hamiltonian)"
   ]
  },
  {
   "cell_type": "markdown",
   "metadata": {},
   "source": [
    "### The mixer hamiltonian\n",
    "\n",
    "The mixer hamiltonian in a two node graph can be defined as:\n",
    "\n",
    "$H_m = X_0 + X_1$\n",
    "\n",
    "where $X_0$ and $X_1$ are the PauliX gates applied to the qubits 0 and 1 respectively.\n",
    "\n",
    "The mixer hamiltonian changes the state of the qubit through rotation in the x-axis to encourage the exploration of the state space when searching for an approximation."
   ]
  },
  {
   "cell_type": "code",
   "execution_count": 259,
   "metadata": {},
   "outputs": [
    {
     "name": "stdout",
     "output_type": "stream",
     "text": [
      "Mixer hamiltonian: H_m = X(0) + X(1)\n"
     ]
    }
   ],
   "source": [
    "# Define the mixer hamiltonian\n",
    "mixer_hamiltonian = qml.PauliX(0) + qml.PauliX(1)\n",
    "print(\"Mixer hamiltonian: H_m =\",mixer_hamiltonian)"
   ]
  },
  {
   "cell_type": "markdown",
   "metadata": {},
   "source": [
    "## The Ansatz for a single layer of the QAOA circuit\n",
    "\n",
    "In a single layer or iteration of the QAOA algorithm the problem hamiltonian and the mixer hamiltonian must be applied. In order to enhance the probability of finding the desired ground state energy the parameters $\\gamma$ and $\\beta$ can be applied to the problem and mixer hamiltonian respectively.\n",
    "\n",
    "These parameters can be optimised in order to find the optimal ground state at the minimum cost. This optimisation will be explored through later stages of the notebook."
   ]
  },
  {
   "cell_type": "code",
   "execution_count": 242,
   "metadata": {},
   "outputs": [],
   "source": [
    "# define the operations for a single layer of the QAOA algorithm\n",
    "#  parameters:\n",
    "#       - gamma: the parameter to be applied to the problem\n",
    "#                hamiltonian.\n",
    "#       - beta: the parameter to be applied to the mixer\n",
    "#               hamiltonian\n",
    "def QAOA_layer(gamma, beta):\n",
    "    # define the cost layer of the QAOA with gamma parameter\n",
    "    qml.qaoa.cost_layer(gamma, problem_hamiltonian)\n",
    "    # define the mixer layer of the hamiltonian with beta parameter\n",
    "    qml.qaoa.mixer_layer(beta, mixer_hamiltonian)"
   ]
  },
  {
   "cell_type": "markdown",
   "metadata": {},
   "source": [
    "## The circuit\n",
    "\n",
    "In order to find an approximation of the max-cut solution for the given graph the QAOA definition from above needs to be applied to qubits in a circuit. In order to improve the accuracy of the approximation the definition should be layered.\n",
    "\n",
    "### The number of qubits\n",
    "\n",
    "Since the partition can be represented as a bit string a number of qubits = $|V|$ where $V$ is the set of vertices in the graph. This would result in a possible set of $2^{|V|}$ states, which corresponds the all the possible partitions of the graph between two graphs.\n",
    " \n",
    "### Going deeper with layering\n",
    "\n",
    "The above function definition applies the QAOA ansatz for a single layer or iteration of the QAOA algorithm. When using the algorithm a larger number of layers will provide a more accurate approximation. The use of multiple layers will repeatedly apply the mixer hamiltonian further exporing the state space during processing.\n",
    "\n"
   ]
  },
  {
   "cell_type": "code",
   "execution_count": 261,
   "metadata": {},
   "outputs": [],
   "source": []
  },
  {
   "cell_type": "code",
   "execution_count": 243,
   "metadata": {},
   "outputs": [],
   "source": [
    "# define the number of iterations to apply to the QAOA\n",
    "# optimization\n",
    "depth = 2\n",
    "\n",
    "# define the number of qubits as the number of vertices\n",
    "# in the graph\n",
    "wires = range(2)\n",
    "\n",
    "# Set up the quantum device\n",
    "dev = qml.device(\"default.qubit\", wires=wires)\n",
    "\n",
    "# define the circuit for the QAOA max-cut problem\n",
    "def circuit(params, **kwargs):\n",
    "    # Apply the hamiltonian to all the qubits in the\n",
    "    # cricuit to put them in a state of superposition\n",
    "    for w in wires:\n",
    "        qml.Hadamard(wires=w)\n",
    "    \n",
    "    # Apply QAOA with parameters - [gamma, beta]\n",
    "    # deoth here define the number of iteration of the\n",
    "    # single QAOA layer to apply\n",
    "    qml.layer(QAOA_layer, depth, params[0], params[1])\n"
   ]
  },
  {
   "cell_type": "code",
   "execution_count": 244,
   "metadata": {},
   "outputs": [],
   "source": [
    "@qml.qnode(dev)\n",
    "def cost(params):\n",
    "    circuit(params)\n",
    "    # print(\"The cost is:\", c)\n",
    "    return qml.expval(problem_hamiltonian)\n",
    "\n",
    "# dev_2 = qml.device(\"default.qubit\", wires=wires)\n",
    "\n",
    "# @qml.qnode(dev_2)\n",
    "# def standard_cost(params):\n",
    "#     standard_circuit(params)\n",
    "#     return qml.expval(standard_cost)"
   ]
  },
  {
   "cell_type": "code",
   "execution_count": 245,
   "metadata": {},
   "outputs": [
    {
     "data": {
      "text/plain": [
       "(<Figure size 800x300 with 1 Axes>, <Axes: >)"
      ]
     },
     "execution_count": 245,
     "metadata": {},
     "output_type": "execute_result"
    },
    {
     "data": {
      "image/png": "[encoded data removed]",
      "text/plain": [
       "<Figure size 800x300 with 1 Axes>"
      ]
     },
     "metadata": {},
     "output_type": "display_data"
    }
   ],
   "source": [
    "params = np.random.uniform(0, np.pi, (graph.number_of_nodes(), depth), requires_grad=True)\n",
    "qml.draw_mpl(cost, style=\"pennylane\", level=\"device\")(params)\n",
    "\n",
    "# std_params = np.random.uniform(0, np.pi, (len(edges), 2), requires_grad=True)\n",
    "# qml.draw_mpl(standard_circuit, style=\"pennylane\", level=\"device\")(std_params)\n"
   ]
  },
  {
   "cell_type": "code",
   "execution_count": 246,
   "metadata": {},
   "outputs": [
    {
     "name": "stdout",
     "output_type": "stream",
     "text": [
      "Problem hamiltonian: -0.5 * (-1 * (Z(0) @ Z(1)) + 1 * I(0))\n",
      "Mixer hamiltonian: X(0) + X(1)\n"
     ]
    }
   ],
   "source": [
    "print(\"Problem hamiltonian:\", problem_hamiltonian)\n",
    "print(\"Mixer hamiltonian:\", mixer_hamiltonian)"
   ]
  },
  {
   "cell_type": "code",
   "execution_count": 249,
   "metadata": {},
   "outputs": [
    {
     "name": "stdout",
     "output_type": "stream",
     "text": [
      "Optimized parameters: [[0.81687082 0.1766457 ]\n",
      " [2.87253754 1.42986659]]\n"
     ]
    }
   ],
   "source": [
    "optimizer = qml.GradientDescentOptimizer()\n",
    "steps = 70\n",
    "\n",
    "for i in range(steps):\n",
    "    \n",
    "    params = optimizer.step(cost, params)\n",
    "    # if (i + 1) % 5 == 0:\n",
    "    #     print(\"Objective after step {:5d}: {: .7f}\".format(i + 1, -objective(params)))\n",
    "\n",
    "\n",
    "print(\"Optimized parameters:\", params)"
   ]
  },
  {
   "cell_type": "code",
   "execution_count": 250,
   "metadata": {},
   "outputs": [
    {
     "name": "stdout",
     "output_type": "stream",
     "text": [
      "The optimal cost is: -0.8943308898970521\n",
      "[0.05283456 0.44716544 0.44716544 0.05283456]\n"
     ]
    },
    {
     "data": {
      "image/png": "[encoded data removed]",
      "text/plain": [
       "<Figure size 800x500 with 1 Axes>"
      ]
     },
     "metadata": {},
     "output_type": "display_data"
    }
   ],
   "source": [
    "@qml.qnode(dev)\n",
    "def probabilities(gamma, beta):\n",
    "    circuit([gamma, beta])\n",
    "    return qml.probs(wires=wires)\n",
    "\n",
    "probs = probabilities(params[0], params[1])\n",
    "optimal_cost = cost(params)\n",
    "\n",
    "print(\"The optimal cost is:\", optimal_cost)\n",
    "print(probs)\n",
    "\n",
    "x_labels = [format(i, '0' + str(len(wires)) + 'b') for i in range(2 ** len(wires))]\n",
    "plt.figure(figsize=(8, 5))\n",
    "plt.bar(x_labels, probs, color='skyblue', edgecolor='black')\n",
    "\n",
    "plt.xlabel('States (Bit Strings)', fontsize=12)\n",
    "plt.ylabel('Probabilities', fontsize=12)\n",
    "plt.title('Probability Distribution', fontsize=14)\n",
    "plt.xticks(rotation=0)  # Rotate x-axis labels for better visibility\n",
    "plt.ylim(0, 1)  # Set y-axis limits to [0, 1]\n",
    "# plt.style.use(\"seaborn\")\n",
    "plt.tight_layout()\n",
    "plt.show()"
   ]
  },
  {
   "cell_type": "code",
   "execution_count": 254,
   "metadata": {},
   "outputs": [
    {
     "data": {
      "image/png": "[encoded data removed]",
      "text/plain": [
       "<Figure size 1200x600 with 2 Axes>"
      ]
     },
     "metadata": {},
     "output_type": "display_data"
    }
   ],
   "source": [
    "def max_prob_bit_string(probs):\n",
    "    max_index = np.argmax(probs)  # Get index of the maximum probability\n",
    "    return format(max_index, '0' + str(len(probs).bit_length() - 1) + 'b')  # Convert index to bit string\n",
    "\n",
    "def divide_graph(G, bit_string):\n",
    "    # Create two subgraphs\n",
    "    G0 = nx.Graph()  # Subgraph for bit string '0'\n",
    "    G1 = nx.Graph()  # Subgraph for bit string '1'\n",
    "    \n",
    "    # Iterate over nodes and their corresponding bits\n",
    "    for i, node in enumerate(G.nodes()):\n",
    "        if bit_string[i] == '0':\n",
    "            G0.add_node(node)\n",
    "        else:\n",
    "            G1.add_node(node)\n",
    "\n",
    "    # for i, node in G0.\n",
    "    # # Add edges that connect nodes in the respective subgraphs\n",
    "    # for u, v in G.edges():\n",
    "    #     if bit_string[G.nodes().index(u)] == '0' and bit_string[G.nodes().index(v)] == '0':\n",
    "    #         G0.add_edge(u, v)\n",
    "    #     elif bit_string[G.nodes().index(u)] == '1' and bit_string[G.nodes().index(v)] == '1':\n",
    "    #         G1.add_edge(u, v)\n",
    "\n",
    "    return G0, G1\n",
    "\n",
    "def plot_graphs(G0, G1):\n",
    "    plt.figure(figsize=(12, 6))\n",
    "\n",
    "    plt.subplot(1, 2, 1)\n",
    "    nx.draw(G0, with_labels=True, node_color='skyblue', edge_color='gray', node_size=700)\n",
    "    plt.title(\"partion of graph base on bit string value of '0'\")\n",
    "\n",
    "    plt.subplot(1, 2, 2)\n",
    "    nx.draw(G1, with_labels=True, node_color='salmon', edge_color='gray', node_size=700)\n",
    "    plt.title(\"partition of graph base on bit string value of '1'\")\n",
    "\n",
    "    plt.tight_layout()\n",
    "    plt.show()\n",
    "\n",
    "bit_string = max_prob_bit_string(probs)  # Example bit string corresponding to the nodes\n",
    "\n",
    "G0, G1 = divide_graph(graph, bit_string)\n",
    "plot_graphs(G0, G1)"
   ]
  },
  {
   "cell_type": "markdown",
   "metadata": {},
   "source": []
  },
  {
   "cell_type": "code",
   "execution_count": null,
   "metadata": {},
   "outputs": [],
   "source": []
  }
 ],
 "metadata": {
  "kernelspec": {
   "display_name": "quantum-env",
   "language": "python",
   "name": "python3"
  },
  "language_info": {
   "codemirror_mode": {
    "name": "ipython",
    "version": 3
   },
   "file_extension": ".py",
   "mimetype": "text/x-python",
   "name": "python",
   "nbconvert_exporter": "python",
   "pygments_lexer": "ipython3",
   "version": "3.12.3"
  }
 },
 "nbformat": 4,
 "nbformat_minor": 2
}
