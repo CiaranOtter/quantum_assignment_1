{
 "cells": [
  {
   "cell_type": "code",
   "execution_count": 1,
   "metadata": {},
   "outputs": [
    {
     "name": "stdout",
     "output_type": "stream",
     "text": [
      "Defaulting to user installation because normal site-packages is not writeable\n",
      "Collecting pennylane\n",
      "  Using cached PennyLane-0.38.0-py3-none-any.whl (1.9 MB)\n",
      "Collecting autograd\n",
      "  Using cached autograd-1.7.0-py3-none-any.whl (52 kB)\n",
      "Requirement already satisfied: scipy in /home/27728277/.local/lib/python3.10/site-packages (from pennylane) (1.14.1)\n",
      "Collecting rustworkx>=0.14.0\n",
      "  Using cached rustworkx-0.15.1-cp38-abi3-manylinux_2_17_x86_64.manylinux2014_x86_64.whl (2.0 MB)\n",
      "Requirement already satisfied: requests in /usr/lib/python3/dist-packages (from pennylane) (2.25.1)\n",
      "Collecting autoray>=0.6.11\n",
      "  Using cached autoray-0.6.12-py3-none-any.whl (50 kB)\n",
      "Collecting toml\n",
      "  Using cached toml-0.10.2-py2.py3-none-any.whl (16 kB)\n",
      "Collecting appdirs\n",
      "  Using cached appdirs-1.4.4-py2.py3-none-any.whl (9.6 kB)\n",
      "Collecting networkx\n",
      "  Using cached networkx-3.3-py3-none-any.whl (1.7 MB)\n",
      "Collecting numpy<2.0\n",
      "  Using cached numpy-1.26.4-cp310-cp310-manylinux_2_17_x86_64.manylinux2014_x86_64.whl (18.2 MB)\n",
      "Requirement already satisfied: typing-extensions in /home/27728277/.local/lib/python3.10/site-packages (from pennylane) (4.12.2)\n",
      "Collecting pennylane-lightning>=0.38\n",
      "  Using cached PennyLane_Lightning-0.38.0-cp310-cp310-manylinux_2_28_x86_64.whl (15.3 MB)\n",
      "Requirement already satisfied: packaging in /home/27728277/.local/lib/python3.10/site-packages (from pennylane) (24.1)\n",
      "Collecting cachetools\n",
      "  Using cached cachetools-5.5.0-py3-none-any.whl (9.5 kB)\n",
      "Installing collected packages: appdirs, toml, numpy, networkx, cachetools, autoray, rustworkx, autograd, pennylane-lightning, pennylane\n",
      "  Attempting uninstall: numpy\n",
      "    Found existing installation: numpy 2.1.0\n",
      "    Uninstalling numpy-2.1.0:\n",
      "      Successfully uninstalled numpy-2.1.0\n",
      "Successfully installed appdirs-1.4.4 autograd-1.7.0 autoray-0.6.12 cachetools-5.5.0 networkx-3.3 numpy-1.26.4 pennylane-0.38.0 pennylane-lightning-0.38.0 rustworkx-0.15.1 toml-0.10.2\n"
     ]
    }
   ],
   "source": [
    "!pip install pennylane"
   ]
  },
  {
   "cell_type": "code",
   "execution_count": 2,
   "metadata": {},
   "outputs": [],
   "source": [
    "import pennylane as qml\n",
    "from pennylane import numpy as np\n",
    "import matplotlib.pyplot as plt"
   ]
  },
  {
   "cell_type": "code",
   "execution_count": null,
   "metadata": {},
   "outputs": [],
   "source": []
  }
 ],
 "metadata": {
  "kernelspec": {
   "display_name": "Python 3",
   "language": "python",
   "name": "python3"
  },
  "language_info": {
   "codemirror_mode": {
    "name": "ipython",
    "version": 3
   },
   "file_extension": ".py",
   "mimetype": "text/x-python",
   "name": "python",
   "nbconvert_exporter": "python",
   "pygments_lexer": "ipython3",
   "version": "3.10.12"
  }
 },
 "nbformat": 4,
 "nbformat_minor": 2
}
